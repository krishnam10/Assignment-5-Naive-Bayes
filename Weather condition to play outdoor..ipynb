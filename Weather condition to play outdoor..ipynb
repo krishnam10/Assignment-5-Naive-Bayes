{
 "cells": [
  {
   "cell_type": "code",
   "execution_count": 1,
   "id": "995d9b88",
   "metadata": {},
   "outputs": [],
   "source": [
    "import pandas as pd"
   ]
  },
  {
   "cell_type": "code",
   "execution_count": 2,
   "id": "9ef9a960",
   "metadata": {},
   "outputs": [
    {
     "data": {
      "text/html": [
       "<div>\n",
       "<style scoped>\n",
       "    .dataframe tbody tr th:only-of-type {\n",
       "        vertical-align: middle;\n",
       "    }\n",
       "\n",
       "    .dataframe tbody tr th {\n",
       "        vertical-align: top;\n",
       "    }\n",
       "\n",
       "    .dataframe thead th {\n",
       "        text-align: right;\n",
       "    }\n",
       "</style>\n",
       "<table border=\"1\" class=\"dataframe\">\n",
       "  <thead>\n",
       "    <tr style=\"text-align: right;\">\n",
       "      <th></th>\n",
       "      <th>Weather</th>\n",
       "      <th>Temperature</th>\n",
       "      <th>Humidity</th>\n",
       "      <th>Wind</th>\n",
       "      <th>Play</th>\n",
       "    </tr>\n",
       "  </thead>\n",
       "  <tbody>\n",
       "    <tr>\n",
       "      <th>0</th>\n",
       "      <td>Sunny</td>\n",
       "      <td>Hot</td>\n",
       "      <td>High</td>\n",
       "      <td>Weak</td>\n",
       "      <td>No</td>\n",
       "    </tr>\n",
       "    <tr>\n",
       "      <th>1</th>\n",
       "      <td>Sunny</td>\n",
       "      <td>Hot</td>\n",
       "      <td>High</td>\n",
       "      <td>Strong</td>\n",
       "      <td>No</td>\n",
       "    </tr>\n",
       "    <tr>\n",
       "      <th>2</th>\n",
       "      <td>Overcast</td>\n",
       "      <td>Hot</td>\n",
       "      <td>High</td>\n",
       "      <td>Weak</td>\n",
       "      <td>Yes</td>\n",
       "    </tr>\n",
       "    <tr>\n",
       "      <th>3</th>\n",
       "      <td>Rainy</td>\n",
       "      <td>Mild</td>\n",
       "      <td>High</td>\n",
       "      <td>Weak</td>\n",
       "      <td>Yes</td>\n",
       "    </tr>\n",
       "    <tr>\n",
       "      <th>4</th>\n",
       "      <td>Rainy</td>\n",
       "      <td>Cool</td>\n",
       "      <td>Normal</td>\n",
       "      <td>Weak</td>\n",
       "      <td>Yes</td>\n",
       "    </tr>\n",
       "    <tr>\n",
       "      <th>5</th>\n",
       "      <td>Rainy</td>\n",
       "      <td>Cool</td>\n",
       "      <td>Normal</td>\n",
       "      <td>Strong</td>\n",
       "      <td>No</td>\n",
       "    </tr>\n",
       "    <tr>\n",
       "      <th>6</th>\n",
       "      <td>Overcast</td>\n",
       "      <td>Cool</td>\n",
       "      <td>Normal</td>\n",
       "      <td>Strong</td>\n",
       "      <td>Yes</td>\n",
       "    </tr>\n",
       "    <tr>\n",
       "      <th>7</th>\n",
       "      <td>Sunny</td>\n",
       "      <td>Mild</td>\n",
       "      <td>High</td>\n",
       "      <td>Weak</td>\n",
       "      <td>No</td>\n",
       "    </tr>\n",
       "    <tr>\n",
       "      <th>8</th>\n",
       "      <td>Sunny</td>\n",
       "      <td>Cool</td>\n",
       "      <td>Normal</td>\n",
       "      <td>Weak</td>\n",
       "      <td>Yes</td>\n",
       "    </tr>\n",
       "    <tr>\n",
       "      <th>9</th>\n",
       "      <td>Rainy</td>\n",
       "      <td>Mild</td>\n",
       "      <td>Normal</td>\n",
       "      <td>Weak</td>\n",
       "      <td>Yes</td>\n",
       "    </tr>\n",
       "    <tr>\n",
       "      <th>10</th>\n",
       "      <td>Sunny</td>\n",
       "      <td>Mild</td>\n",
       "      <td>Normal</td>\n",
       "      <td>Strong</td>\n",
       "      <td>Yes</td>\n",
       "    </tr>\n",
       "    <tr>\n",
       "      <th>11</th>\n",
       "      <td>Overcast</td>\n",
       "      <td>Mild</td>\n",
       "      <td>High</td>\n",
       "      <td>Strong</td>\n",
       "      <td>Yes</td>\n",
       "    </tr>\n",
       "    <tr>\n",
       "      <th>12</th>\n",
       "      <td>Overcast</td>\n",
       "      <td>Hot</td>\n",
       "      <td>Normal</td>\n",
       "      <td>Weak</td>\n",
       "      <td>Yes</td>\n",
       "    </tr>\n",
       "    <tr>\n",
       "      <th>13</th>\n",
       "      <td>Rainy</td>\n",
       "      <td>Mild</td>\n",
       "      <td>High</td>\n",
       "      <td>Strong</td>\n",
       "      <td>No</td>\n",
       "    </tr>\n",
       "  </tbody>\n",
       "</table>\n",
       "</div>"
      ],
      "text/plain": [
       "     Weather Temperature Humidity    Wind Play\n",
       "0      Sunny         Hot     High    Weak   No\n",
       "1      Sunny         Hot     High  Strong   No\n",
       "2   Overcast         Hot     High    Weak  Yes\n",
       "3      Rainy        Mild     High    Weak  Yes\n",
       "4      Rainy        Cool   Normal    Weak  Yes\n",
       "5      Rainy        Cool   Normal  Strong   No\n",
       "6   Overcast        Cool   Normal  Strong  Yes\n",
       "7      Sunny        Mild     High    Weak   No\n",
       "8      Sunny        Cool   Normal    Weak  Yes\n",
       "9      Rainy        Mild   Normal    Weak  Yes\n",
       "10     Sunny        Mild   Normal  Strong  Yes\n",
       "11  Overcast        Mild     High  Strong  Yes\n",
       "12  Overcast         Hot   Normal    Weak  Yes\n",
       "13     Rainy        Mild     High  Strong   No"
      ]
     },
     "execution_count": 2,
     "metadata": {},
     "output_type": "execute_result"
    }
   ],
   "source": [
    "data = pd.read_csv(\"weather_conditions.csv\")\n",
    "data"
   ]
  },
  {
   "cell_type": "code",
   "execution_count": 3,
   "id": "78fb0e1d",
   "metadata": {},
   "outputs": [
    {
     "data": {
      "text/plain": [
       "(14, 5)"
      ]
     },
     "execution_count": 3,
     "metadata": {},
     "output_type": "execute_result"
    }
   ],
   "source": [
    "data.shape"
   ]
  },
  {
   "cell_type": "code",
   "execution_count": 4,
   "id": "fc2334b6",
   "metadata": {},
   "outputs": [
    {
     "name": "stdout",
     "output_type": "stream",
     "text": [
      "<class 'pandas.core.frame.DataFrame'>\n",
      "RangeIndex: 14 entries, 0 to 13\n",
      "Data columns (total 5 columns):\n",
      " #   Column       Non-Null Count  Dtype \n",
      "---  ------       --------------  ----- \n",
      " 0   Weather      14 non-null     object\n",
      " 1   Temperature  14 non-null     object\n",
      " 2   Humidity     14 non-null     object\n",
      " 3   Wind         14 non-null     object\n",
      " 4   Play         14 non-null     object\n",
      "dtypes: object(5)\n",
      "memory usage: 688.0+ bytes\n"
     ]
    }
   ],
   "source": [
    "data.info()"
   ]
  },
  {
   "cell_type": "code",
   "execution_count": 5,
   "id": "d98723de",
   "metadata": {},
   "outputs": [
    {
     "data": {
      "text/plain": [
       "Weather        0\n",
       "Temperature    0\n",
       "Humidity       0\n",
       "Wind           0\n",
       "Play           0\n",
       "dtype: int64"
      ]
     },
     "execution_count": 5,
     "metadata": {},
     "output_type": "execute_result"
    }
   ],
   "source": [
    "data.isnull().sum()"
   ]
  },
  {
   "cell_type": "code",
   "execution_count": 6,
   "id": "43c06ab1",
   "metadata": {},
   "outputs": [
    {
     "name": "stdout",
     "output_type": "stream",
     "text": [
      "Weather Frequency Table:\n",
      "Sunny       5\n",
      "Rainy       5\n",
      "Overcast    4\n",
      "Name: Weather, dtype: int64\n"
     ]
    }
   ],
   "source": [
    "weather_freq = data[\"Weather\"].value_counts()\n",
    "print(f'Weather Frequency Table:\\n{weather_freq}')"
   ]
  },
  {
   "cell_type": "code",
   "execution_count": 7,
   "id": "bed6fd40",
   "metadata": {},
   "outputs": [
    {
     "name": "stdout",
     "output_type": "stream",
     "text": [
      "Temperature Frequency Table:\n",
      "Mild    6\n",
      "Hot     4\n",
      "Cool    4\n",
      "Name: Temperature, dtype: int64\n"
     ]
    }
   ],
   "source": [
    "temperature_freq = data[\"Temperature\"].value_counts()\n",
    "print(f'Temperature Frequency Table:\\n{temperature_freq}')"
   ]
  },
  {
   "cell_type": "code",
   "execution_count": 8,
   "id": "4cbd978f",
   "metadata": {},
   "outputs": [
    {
     "name": "stdout",
     "output_type": "stream",
     "text": [
      "Humidity Frequency Table:\n",
      "High      7\n",
      "Normal    7\n",
      "Name: Humidity, dtype: int64\n"
     ]
    }
   ],
   "source": [
    "humidity_freq = data[\"Humidity\"].value_counts()\n",
    "print(f'Humidity Frequency Table:\\n{humidity_freq}')"
   ]
  },
  {
   "cell_type": "code",
   "execution_count": 9,
   "id": "bf16ffb4",
   "metadata": {},
   "outputs": [
    {
     "name": "stdout",
     "output_type": "stream",
     "text": [
      "Wind Frequency Table:\n",
      "Weak      8\n",
      "Strong    6\n",
      "Name: Wind, dtype: int64\n"
     ]
    }
   ],
   "source": [
    "wind_freq = data[\"Wind\"].value_counts()\n",
    "print(f'Wind Frequency Table:\\n{wind_freq}')"
   ]
  },
  {
   "cell_type": "code",
   "execution_count": 10,
   "id": "f89c24b0",
   "metadata": {},
   "outputs": [
    {
     "name": "stdout",
     "output_type": "stream",
     "text": [
      "Play Frequency Table:\n",
      "Yes    9\n",
      "No     5\n",
      "Name: Play, dtype: int64\n"
     ]
    }
   ],
   "source": [
    "play_freq = data[\"Play\"].value_counts()\n",
    "print(f'Play Frequency Table:\\n{play_freq}')"
   ]
  },
  {
   "cell_type": "code",
   "execution_count": 11,
   "id": "1d4b4ce5",
   "metadata": {},
   "outputs": [
    {
     "name": "stdout",
     "output_type": "stream",
     "text": [
      "Likelihood Table:\n",
      "Weather     Overcast                     Rainy                          Sunny  \\\n",
      "Temperature     Cool  Hot          Mild   Cool        Mild               Cool   \n",
      "Humidity      Normal High Normal   High Normal        High      Normal Normal   \n",
      "Wind          Strong Weak   Weak Strong Strong Weak Strong Weak   Weak   Weak   \n",
      "Play                                                                            \n",
      "No               0.0  0.0    0.0    0.0    1.0  0.0    1.0  0.0    0.0    0.0   \n",
      "Yes              1.0  1.0    1.0    1.0    0.0  1.0    0.0  1.0    1.0    1.0   \n",
      "\n",
      "Weather                              \n",
      "Temperature    Hot      Mild         \n",
      "Humidity      High      High Normal  \n",
      "Wind        Strong Weak Weak Strong  \n",
      "Play                                 \n",
      "No             1.0  1.0  1.0    0.0  \n",
      "Yes            0.0  0.0  0.0    1.0  \n"
     ]
    }
   ],
   "source": [
    "likelihood_table = pd.crosstab(index=data['Play'], columns=[data['Weather'], data['Temperature'], data['Humidity'], data['Wind']], normalize='columns')\n",
    "\n",
    "print(f'Likelihood Table:\\n{likelihood_table}')"
   ]
  },
  {
   "cell_type": "code",
   "execution_count": 12,
   "id": "422ecbfd",
   "metadata": {},
   "outputs": [
    {
     "data": {
      "text/plain": [
       "0.6428571428571429"
      ]
     },
     "execution_count": 12,
     "metadata": {},
     "output_type": "execute_result"
    }
   ],
   "source": [
    "prior_play = play_freq['Yes'] / len(data)\n",
    "prior_play"
   ]
  },
  {
   "cell_type": "code",
   "execution_count": 13,
   "id": "af8c1a76",
   "metadata": {},
   "outputs": [],
   "source": [
    "weather = 'Sunny'\n",
    "temperature = 'Mild'\n",
    "humidity = 'High'\n",
    "wind = 'Weak'"
   ]
  },
  {
   "cell_type": "code",
   "execution_count": 14,
   "id": "82f25b88",
   "metadata": {},
   "outputs": [
    {
     "name": "stdout",
     "output_type": "stream",
     "text": [
      "Posterior Probability:Play\n",
      "No     0.642857\n",
      "Yes    0.000000\n",
      "Name: Weak, dtype: float64\n"
     ]
    }
   ],
   "source": [
    "posterior_prob = likelihood_table[weather][temperature][humidity][wind] * prior_play\n",
    "\n",
    "print(f'Posterior Probability:{posterior_prob}')"
   ]
  },
  {
   "cell_type": "code",
   "execution_count": null,
   "id": "aed0df29",
   "metadata": {},
   "outputs": [],
   "source": []
  }
 ],
 "metadata": {
  "kernelspec": {
   "display_name": "Python 3 (ipykernel)",
   "language": "python",
   "name": "python3"
  },
  "language_info": {
   "codemirror_mode": {
    "name": "ipython",
    "version": 3
   },
   "file_extension": ".py",
   "mimetype": "text/x-python",
   "name": "python",
   "nbconvert_exporter": "python",
   "pygments_lexer": "ipython3",
   "version": "3.11.0"
  }
 },
 "nbformat": 4,
 "nbformat_minor": 5
}
